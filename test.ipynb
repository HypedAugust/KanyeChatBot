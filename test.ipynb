{
 "cells": [
  {
   "cell_type": "code",
   "execution_count": 31,
   "metadata": {},
   "outputs": [],
   "source": [
    "import os \n",
    "from dotenv import load_dotenv\n",
    "\n",
    "load_dotenv()\n",
    "OPENAI_API_KEY = os.getenv(\"OPENAI_API_KEY\")"
   ]
  },
  {
   "cell_type": "markdown",
   "metadata": {},
   "source": [
    "# prompt + llm + output"
   ]
  },
  {
   "cell_type": "code",
   "execution_count": 32,
   "metadata": {},
   "outputs": [],
   "source": [
    "from langchain_core.prompts import ChatPromptTemplate\n",
    "\n",
    "prompt = ChatPromptTemplate.from_messages(\n",
    "    [(\"system\", \"당신은 Kanye 전문가입니다.\"), (\"user\",\"{input}\")]\n",
    ")"
   ]
  },
  {
   "cell_type": "code",
   "execution_count": 33,
   "metadata": {},
   "outputs": [
    {
     "data": {
      "text/plain": [
       "ChatPromptTemplate(input_variables=['input'], messages=[SystemMessagePromptTemplate(prompt=PromptTemplate(input_variables=[], template='당신은 Kanye 전문가입니다.')), HumanMessagePromptTemplate(prompt=PromptTemplate(input_variables=['input'], template='{input}'))])"
      ]
     },
     "execution_count": 33,
     "metadata": {},
     "output_type": "execute_result"
    }
   ],
   "source": [
    "prompt"
   ]
  },
  {
   "cell_type": "code",
   "execution_count": 34,
   "metadata": {},
   "outputs": [],
   "source": [
    "prompt_text = prompt.format(input=\"Kanye West의 최고 앨범은 무엇인가요?\")"
   ]
  },
  {
   "cell_type": "code",
   "execution_count": 35,
   "metadata": {},
   "outputs": [],
   "source": [
    "from langchain_openai import ChatOpenAI\n",
    "llm = ChatOpenAI(api_key=OPENAI_API_KEY, model_name=\"gpt-3.5-turbo-0125\")\n",
    "# 모델의 버전관리를 계속 해줘야 한다. 예로 gpt-3.5-turbo 대신 gpt-3.5-turbo-0125"
   ]
  },
  {
   "cell_type": "code",
   "execution_count": 36,
   "metadata": {},
   "outputs": [],
   "source": [
    "response = llm.invoke(prompt_text) # 돈내서 토큰 사야함. "
   ]
  },
  {
   "cell_type": "code",
   "execution_count": 37,
   "metadata": {},
   "outputs": [
    {
     "data": {
      "text/plain": [
       "\"System: Kanye West의 최고 앨범은 주관적인 의견에 따라 다를 수 있지만, 보통 'My Beautiful Dark Twisted Fantasy'와 'Late Registration'이 그의 최고 앨범으로 꼽힙니다. 두 앨범은 음악적인 혁신과 탁월한 프로덕션으로 인정받고 있습니다.\""
      ]
     },
     "execution_count": 37,
     "metadata": {},
     "output_type": "execute_result"
    }
   ],
   "source": [
    "# 지금 부터 모델의 응답을 추출해볼거임. 여기에 답변이 system에 담기게 됨. \n",
    "response.content"
   ]
  },
  {
   "cell_type": "code",
   "execution_count": 38,
   "metadata": {},
   "outputs": [],
   "source": [
    "# 근데 바로 위 같은 방법을 계속할 수는 없잖음? 그래서 output parse를 쓰는거임. \n",
    "from langchain_core.output_parsers import StrOutputParser\n",
    "\n",
    "output_parser = StrOutputParser() "
   ]
  },
  {
   "cell_type": "markdown",
   "metadata": {},
   "source": [
    "입력 모델 출력을 작업했으면 하나로 연결해야 하는데, 그래서 쓰는게 랭체인의 문법이다. \n",
    "LCEL"
   ]
  },
  {
   "cell_type": "code",
   "execution_count": 39,
   "metadata": {},
   "outputs": [],
   "source": [
    "chain = prompt | llm | output_parser"
   ]
  },
  {
   "cell_type": "code",
   "execution_count": 40,
   "metadata": {},
   "outputs": [],
   "source": [
    "response = chain.invoke({'input':\"Kanye West의 최고 앨범은 무엇인가요?\"})"
   ]
  },
  {
   "cell_type": "code",
   "execution_count": 41,
   "metadata": {},
   "outputs": [
    {
     "data": {
      "text/plain": [
       "\"그 질문에 대답하기는 어렵지만, 대부분의 팬들이 'My Beautiful Dark Twisted Fantasy'를 그의 최고 앨범으로 꼽는다고 할 수 있습니다. 이 앨범은 음악 비평가들과 팬들로부터 매우 긍정적인 평가를 받았으며, Kanye West의 음악적 창의성과 깊이를 잘 보여주는 작품으로 손꼽힙니다. 그 외에도 'The College Dropout', 'Late Registration', '808s & Heartbreak', 'Yeezus' 등의 앨범도 많은 팬들에게 사랑을 받고 있습니다. Kanye West의 앨범은 각기 다른 음악적 스타일과 메시지를 담고 있어서, 개인적으로 좋아하는 앨범은 취향에 따라 다를 수 있습니다.\""
      ]
     },
     "execution_count": 41,
     "metadata": {},
     "output_type": "execute_result"
    }
   ],
   "source": [
    "response # 드디어 답변만 추출 parsing 완성! "
   ]
  },
  {
   "cell_type": "markdown",
   "metadata": {},
   "source": []
  }
 ],
 "metadata": {
  "kernelspec": {
   "display_name": "Python 3",
   "language": "python",
   "name": "python3"
  },
  "language_info": {
   "codemirror_mode": {
    "name": "ipython",
    "version": 3
   },
   "file_extension": ".py",
   "mimetype": "text/x-python",
   "name": "python",
   "nbconvert_exporter": "python",
   "pygments_lexer": "ipython3",
   "version": "3.12.3"
  }
 },
 "nbformat": 4,
 "nbformat_minor": 2
}
